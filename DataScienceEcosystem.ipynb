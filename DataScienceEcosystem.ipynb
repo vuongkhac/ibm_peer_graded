{
 "cells": [
  {
   "cell_type": "markdown",
   "metadata": {},
   "source": [
    "<center>\n",
    "    <img src=\"https://cf-courses-data.s3.us.cloud-object-storage.appdomain.cloud/IBMDeveloperSkillsNetwork-DS0105EN-SkillsNetwork/labs/Module2/images/SN_web_lightmode.png\" width=\"300\" alt=\"cognitiveclass.ai logo\">\n",
    "</center>\n"
   ]
  },
  {
   "cell_type": "markdown",
   "metadata": {},
   "source": [
    "DataScienceEcosystem\n"
   ]
  },
  {
   "cell_type": "markdown",
   "metadata": {},
   "source": [
    "This is the introdcution of my Peer_graded assignment. It was about testing the ability to use jupyter-notebook\n"
   ]
  },
  {
   "cell_type": "markdown",
   "metadata": {},
   "source": [
    "Data Science Languages\n",
    "\n",
    "+Python\n",
    "\n",
    "+R \n",
    "\n",
    "+SQL\n"
   ]
  },
  {
   "cell_type": "markdown",
   "metadata": {},
   "source": [
    "Data Science Libraries\n",
    "\n",
    "+Pandas\n",
    "\n",
    "\n",
    "+NumPy\n",
    "\n",
    "\n",
    "+Matplotlib\n",
    "\n",
    "\n",
    "+Seaborn\n",
    "\n",
    "\n",
    "+Scikit-learn"
   ]
  },
  {
   "cell_type": "markdown",
   "metadata": {},
   "source": [
    "Data Science Tools\n",
    "\n",
    "-Jupyter notebook\n",
    "\n",
    "\n",
    "-Tableau\n",
    "\n",
    "\n",
    "-Rstudio\n",
    "\n",
    "\n",
    "-Apache Hadoop\n",
    "\n",
    "\n",
    "-KNIME\n"
   ]
  },
  {
   "cell_type": "markdown",
   "metadata": {},
   "source": [
    "Arithmetic express \n",
    "\n",
    "like (+) : 3 + 4 = 7"
   ]
  },
  {
   "cell_type": "markdown",
   "metadata": {},
   "source": [
    "Code cell multiply and add number "
   ]
  },
  {
   "cell_type": "code",
   "execution_count": 2,
   "metadata": {
    "tags": []
   },
   "outputs": [
    {
     "name": "stdout",
     "output_type": "stream",
     "text": [
      "10\n",
      "7\n"
     ]
    }
   ],
   "source": [
    "#multiply\n",
    "m1 = 2\n",
    "m2 = 5 \n",
    "ttmul = m1 * m2 \n",
    "print(ttmul)\n",
    "\n",
    "#addition\n",
    "a1 = 3\n",
    "a2 = 4 \n",
    "ttadd = a1 + a2\n",
    "print(ttadd)"
   ]
  },
  {
   "cell_type": "markdown",
   "metadata": {},
   "source": [
    "Code cell to convert minutes to hours"
   ]
  },
  {
   "cell_type": "code",
   "execution_count": 5,
   "metadata": {
    "tags": []
   },
   "outputs": [
    {
     "name": "stdout",
     "output_type": "stream",
     "text": [
      "0.5\n"
     ]
    }
   ],
   "source": [
    "mins = 30\n",
    "hours = 60\n",
    "con = mins/hours\n",
    "print(con)"
   ]
  },
  {
   "cell_type": "markdown",
   "metadata": {},
   "source": [
    "**List Objectives**"
   ]
  },
  {
   "cell_type": "markdown",
   "metadata": {},
   "source": [
    "Data Science Languages\n",
    "\n",
    "Data Science Tools\n",
    "\n",
    "Arithmetic express "
   ]
  },
  {
   "cell_type": "markdown",
   "metadata": {},
   "source": [
    "**Author's name**\n",
    "\n",
    "**Nguyen Khac Vuong**"
   ]
  },
  {
   "cell_type": "code",
   "execution_count": null,
   "metadata": {},
   "outputs": [],
   "source": []
  }
 ],
 "metadata": {
  "kernelspec": {
   "display_name": "Python",
   "language": "python",
   "name": "conda-env-python-py"
  },
  "language_info": {
   "codemirror_mode": {
    "name": "ipython",
    "version": 3
   },
   "file_extension": ".py",
   "mimetype": "text/x-python",
   "name": "python",
   "nbconvert_exporter": "python",
   "pygments_lexer": "ipython3",
   "version": "3.7.12"
  }
 },
 "nbformat": 4,
 "nbformat_minor": 4
}
